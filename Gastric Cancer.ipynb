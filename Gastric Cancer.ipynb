{
 "cells": [
  {
   "cell_type": "markdown",
   "id": "60893572",
   "metadata": {},
   "source": [
    "# Gastric Cancer Dataset Analysis:\n",
    "\n"
   ]
  },
  {
   "cell_type": "markdown",
   "id": "4ca4281b",
   "metadata": {},
   "source": [
    "## Dataset Overview :\n",
    "-  1- Demographic and Behavioral Data (age , gender , ethnicity , geographical_location , family_history).\n",
    "-  2- Lifestyle and Health Habits (smoking_habits , alcohol_consumption , dietary_habits).\n",
    "-  3- Medical Conditions & Infections (helicobacter_pylori_infection , existing_conditions).\n",
    "-  4-  Genetic Data (miRNA & Target Genes (mature_mirna_acc , mature_mirna_id , target_symbol , target_entrez , target_ensembl)"
   ]
  },
  {
   "cell_type": "markdown",
   "id": "02b0f0cc",
   "metadata": {},
   "source": [
    "### 1 - Import Libraries ."
   ]
  },
  {
   "cell_type": "code",
   "execution_count": 8,
   "id": "5db28cb0",
   "metadata": {},
   "outputs": [],
   "source": [
    "import numpy as np\n",
    "import pandas as pd\n",
    "import matplotlib as plt\n",
    "import seaborn as sns"
   ]
  },
  {
   "cell_type": "code",
   "execution_count": 9,
   "id": "2085e2f4",
   "metadata": {},
   "outputs": [],
   "source": [
    "# Load the data \n",
    "gc = pd.read_csv(r\"C:\\Users\\user\\Documents\\DEPI\\gastric_cancer_detection_dataset.csv\")"
   ]
  },
  {
   "cell_type": "markdown",
   "id": "185bf3fd",
   "metadata": {},
   "source": [
    "### 2- Explor Data ."
   ]
  },
  {
   "cell_type": "code",
   "execution_count": 10,
   "id": "0bb11ea8",
   "metadata": {},
   "outputs": [
    {
     "data": {
      "text/plain": [
       "(212354, 29)"
      ]
     },
     "execution_count": 10,
     "metadata": {},
     "output_type": "execute_result"
    }
   ],
   "source": [
    "gc.shape"
   ]
  },
  {
   "cell_type": "code",
   "execution_count": 11,
   "id": "e5f047dc",
   "metadata": {},
   "outputs": [
    {
     "data": {
      "text/html": [
       "<div>\n",
       "<style scoped>\n",
       "    .dataframe tbody tr th:only-of-type {\n",
       "        vertical-align: middle;\n",
       "    }\n",
       "\n",
       "    .dataframe tbody tr th {\n",
       "        vertical-align: top;\n",
       "    }\n",
       "\n",
       "    .dataframe thead th {\n",
       "        text-align: right;\n",
       "    }\n",
       "</style>\n",
       "<table border=\"1\" class=\"dataframe\">\n",
       "  <thead>\n",
       "    <tr style=\"text-align: right;\">\n",
       "      <th></th>\n",
       "      <th>age</th>\n",
       "      <th>gender</th>\n",
       "      <th>ethnicity</th>\n",
       "      <th>geographical_location</th>\n",
       "      <th>family_history</th>\n",
       "      <th>smoking_habits</th>\n",
       "      <th>alcohol_consumption</th>\n",
       "      <th>helicobacter_pylori_infection</th>\n",
       "      <th>dietary_habits</th>\n",
       "      <th>existing_conditions</th>\n",
       "      <th>...</th>\n",
       "      <th>elmmo</th>\n",
       "      <th>microcosm</th>\n",
       "      <th>miranda</th>\n",
       "      <th>mirdb</th>\n",
       "      <th>pictar</th>\n",
       "      <th>pita</th>\n",
       "      <th>targetscan</th>\n",
       "      <th>predicted.sum</th>\n",
       "      <th>all.sum</th>\n",
       "      <th>label</th>\n",
       "    </tr>\n",
       "  </thead>\n",
       "  <tbody>\n",
       "    <tr>\n",
       "      <th>0</th>\n",
       "      <td>43</td>\n",
       "      <td>Male</td>\n",
       "      <td>Ethnicity_A</td>\n",
       "      <td>Other</td>\n",
       "      <td>1</td>\n",
       "      <td>0</td>\n",
       "      <td>0</td>\n",
       "      <td>0</td>\n",
       "      <td>Low_Salt</td>\n",
       "      <td>Chronic Gastritis</td>\n",
       "      <td>...</td>\n",
       "      <td>0.187003</td>\n",
       "      <td>0.786422</td>\n",
       "      <td>0.204816</td>\n",
       "      <td>0.561920</td>\n",
       "      <td>0.438175</td>\n",
       "      <td>0.283603</td>\n",
       "      <td>0.928244</td>\n",
       "      <td>4.324299</td>\n",
       "      <td>7.666791</td>\n",
       "      <td>0</td>\n",
       "    </tr>\n",
       "    <tr>\n",
       "      <th>1</th>\n",
       "      <td>86</td>\n",
       "      <td>Female</td>\n",
       "      <td>Ethnicity_B</td>\n",
       "      <td>California</td>\n",
       "      <td>1</td>\n",
       "      <td>0</td>\n",
       "      <td>0</td>\n",
       "      <td>1</td>\n",
       "      <td>High_Salt</td>\n",
       "      <td>Diabetes</td>\n",
       "      <td>...</td>\n",
       "      <td>0.493322</td>\n",
       "      <td>0.963989</td>\n",
       "      <td>0.498041</td>\n",
       "      <td>0.985585</td>\n",
       "      <td>0.144609</td>\n",
       "      <td>0.375375</td>\n",
       "      <td>0.103573</td>\n",
       "      <td>7.967674</td>\n",
       "      <td>1.483280</td>\n",
       "      <td>0</td>\n",
       "    </tr>\n",
       "    <tr>\n",
       "      <th>2</th>\n",
       "      <td>68</td>\n",
       "      <td>Male</td>\n",
       "      <td>Ethnicity_A</td>\n",
       "      <td>California</td>\n",
       "      <td>0</td>\n",
       "      <td>1</td>\n",
       "      <td>1</td>\n",
       "      <td>0</td>\n",
       "      <td>High_Salt</td>\n",
       "      <td>None</td>\n",
       "      <td>...</td>\n",
       "      <td>0.573560</td>\n",
       "      <td>0.666896</td>\n",
       "      <td>0.540388</td>\n",
       "      <td>0.905853</td>\n",
       "      <td>0.827279</td>\n",
       "      <td>0.350915</td>\n",
       "      <td>0.166878</td>\n",
       "      <td>3.748651</td>\n",
       "      <td>3.046783</td>\n",
       "      <td>0</td>\n",
       "    </tr>\n",
       "    <tr>\n",
       "      <th>3</th>\n",
       "      <td>57</td>\n",
       "      <td>Female</td>\n",
       "      <td>Ethnicity_A</td>\n",
       "      <td>Other</td>\n",
       "      <td>0</td>\n",
       "      <td>0</td>\n",
       "      <td>0</td>\n",
       "      <td>1</td>\n",
       "      <td>High_Salt</td>\n",
       "      <td>Chronic Gastritis</td>\n",
       "      <td>...</td>\n",
       "      <td>0.261399</td>\n",
       "      <td>0.949488</td>\n",
       "      <td>0.134170</td>\n",
       "      <td>0.429935</td>\n",
       "      <td>0.935231</td>\n",
       "      <td>0.794704</td>\n",
       "      <td>0.867036</td>\n",
       "      <td>5.478298</td>\n",
       "      <td>8.811307</td>\n",
       "      <td>0</td>\n",
       "    </tr>\n",
       "    <tr>\n",
       "      <th>4</th>\n",
       "      <td>33</td>\n",
       "      <td>Male</td>\n",
       "      <td>Ethnicity_A</td>\n",
       "      <td>California</td>\n",
       "      <td>0</td>\n",
       "      <td>1</td>\n",
       "      <td>1</td>\n",
       "      <td>0</td>\n",
       "      <td>High_Salt</td>\n",
       "      <td>Diabetes</td>\n",
       "      <td>...</td>\n",
       "      <td>0.754478</td>\n",
       "      <td>0.263164</td>\n",
       "      <td>0.876767</td>\n",
       "      <td>0.650832</td>\n",
       "      <td>0.337669</td>\n",
       "      <td>0.427492</td>\n",
       "      <td>0.915804</td>\n",
       "      <td>1.809181</td>\n",
       "      <td>0.394632</td>\n",
       "      <td>0</td>\n",
       "    </tr>\n",
       "  </tbody>\n",
       "</table>\n",
       "<p>5 rows × 29 columns</p>\n",
       "</div>"
      ],
      "text/plain": [
       "   age  gender    ethnicity geographical_location  family_history  \\\n",
       "0   43    Male  Ethnicity_A                 Other               1   \n",
       "1   86  Female  Ethnicity_B            California               1   \n",
       "2   68    Male  Ethnicity_A            California               0   \n",
       "3   57  Female  Ethnicity_A                 Other               0   \n",
       "4   33    Male  Ethnicity_A            California               0   \n",
       "\n",
       "   smoking_habits  alcohol_consumption  helicobacter_pylori_infection  \\\n",
       "0               0                    0                              0   \n",
       "1               0                    0                              1   \n",
       "2               1                    1                              0   \n",
       "3               0                    0                              1   \n",
       "4               1                    1                              0   \n",
       "\n",
       "  dietary_habits existing_conditions  ...     elmmo microcosm   miranda  \\\n",
       "0       Low_Salt   Chronic Gastritis  ...  0.187003  0.786422  0.204816   \n",
       "1      High_Salt            Diabetes  ...  0.493322  0.963989  0.498041   \n",
       "2      High_Salt                None  ...  0.573560  0.666896  0.540388   \n",
       "3      High_Salt   Chronic Gastritis  ...  0.261399  0.949488  0.134170   \n",
       "4      High_Salt            Diabetes  ...  0.754478  0.263164  0.876767   \n",
       "\n",
       "      mirdb    pictar      pita  targetscan  predicted.sum   all.sum  label  \n",
       "0  0.561920  0.438175  0.283603    0.928244       4.324299  7.666791      0  \n",
       "1  0.985585  0.144609  0.375375    0.103573       7.967674  1.483280      0  \n",
       "2  0.905853  0.827279  0.350915    0.166878       3.748651  3.046783      0  \n",
       "3  0.429935  0.935231  0.794704    0.867036       5.478298  8.811307      0  \n",
       "4  0.650832  0.337669  0.427492    0.915804       1.809181  0.394632      0  \n",
       "\n",
       "[5 rows x 29 columns]"
      ]
     },
     "execution_count": 11,
     "metadata": {},
     "output_type": "execute_result"
    }
   ],
   "source": [
    "gc.head()"
   ]
  },
  {
   "cell_type": "code",
   "execution_count": 12,
   "id": "48784dfa",
   "metadata": {},
   "outputs": [
    {
     "name": "stdout",
     "output_type": "stream",
     "text": [
      "<class 'pandas.core.frame.DataFrame'>\n",
      "RangeIndex: 212354 entries, 0 to 212353\n",
      "Data columns (total 29 columns):\n",
      " #   Column                         Non-Null Count   Dtype  \n",
      "---  ------                         --------------   -----  \n",
      " 0   age                            212354 non-null  int64  \n",
      " 1   gender                         212354 non-null  object \n",
      " 2   ethnicity                      212354 non-null  object \n",
      " 3   geographical_location          212354 non-null  object \n",
      " 4   family_history                 212354 non-null  int64  \n",
      " 5   smoking_habits                 212354 non-null  int64  \n",
      " 6   alcohol_consumption            212354 non-null  int64  \n",
      " 7   helicobacter_pylori_infection  212354 non-null  int64  \n",
      " 8   dietary_habits                 212354 non-null  object \n",
      " 9   existing_conditions            212354 non-null  object \n",
      " 10  endoscopic_images              212354 non-null  object \n",
      " 11  biopsy_results                 212354 non-null  object \n",
      " 12  ct_scan                        212354 non-null  object \n",
      " 13  mature_mirna_acc               212354 non-null  object \n",
      " 14  mature_mirna_id                212354 non-null  object \n",
      " 15  target_symbol                  212354 non-null  object \n",
      " 16  target_entrez                  212354 non-null  int64  \n",
      " 17  target_ensembl                 212354 non-null  int64  \n",
      " 18  diana_microt                   212354 non-null  float64\n",
      " 19  elmmo                          212354 non-null  float64\n",
      " 20  microcosm                      212354 non-null  float64\n",
      " 21  miranda                        212354 non-null  float64\n",
      " 22  mirdb                          212354 non-null  float64\n",
      " 23  pictar                         212354 non-null  float64\n",
      " 24  pita                           212354 non-null  float64\n",
      " 25  targetscan                     212354 non-null  float64\n",
      " 26  predicted.sum                  212354 non-null  float64\n",
      " 27  all.sum                        212354 non-null  float64\n",
      " 28  label                          212354 non-null  int64  \n",
      "dtypes: float64(10), int64(8), object(11)\n",
      "memory usage: 47.0+ MB\n"
     ]
    }
   ],
   "source": [
    "gc.info()"
   ]
  },
  {
   "cell_type": "code",
   "execution_count": 13,
   "id": "b1cd6b63",
   "metadata": {},
   "outputs": [
    {
     "data": {
      "text/html": [
       "<div>\n",
       "<style scoped>\n",
       "    .dataframe tbody tr th:only-of-type {\n",
       "        vertical-align: middle;\n",
       "    }\n",
       "\n",
       "    .dataframe tbody tr th {\n",
       "        vertical-align: top;\n",
       "    }\n",
       "\n",
       "    .dataframe thead th {\n",
       "        text-align: right;\n",
       "    }\n",
       "</style>\n",
       "<table border=\"1\" class=\"dataframe\">\n",
       "  <thead>\n",
       "    <tr style=\"text-align: right;\">\n",
       "      <th></th>\n",
       "      <th>age</th>\n",
       "      <th>family_history</th>\n",
       "      <th>smoking_habits</th>\n",
       "      <th>alcohol_consumption</th>\n",
       "      <th>helicobacter_pylori_infection</th>\n",
       "      <th>target_entrez</th>\n",
       "      <th>target_ensembl</th>\n",
       "      <th>diana_microt</th>\n",
       "      <th>elmmo</th>\n",
       "      <th>microcosm</th>\n",
       "      <th>miranda</th>\n",
       "      <th>mirdb</th>\n",
       "      <th>pictar</th>\n",
       "      <th>pita</th>\n",
       "      <th>targetscan</th>\n",
       "      <th>predicted.sum</th>\n",
       "      <th>all.sum</th>\n",
       "      <th>label</th>\n",
       "    </tr>\n",
       "  </thead>\n",
       "  <tbody>\n",
       "    <tr>\n",
       "      <th>count</th>\n",
       "      <td>212354.000000</td>\n",
       "      <td>212354.000000</td>\n",
       "      <td>212354.000000</td>\n",
       "      <td>212354.000000</td>\n",
       "      <td>212354.000000</td>\n",
       "      <td>212354.000000</td>\n",
       "      <td>2.123540e+05</td>\n",
       "      <td>212354.000000</td>\n",
       "      <td>2.123540e+05</td>\n",
       "      <td>212354.000000</td>\n",
       "      <td>212354.000000</td>\n",
       "      <td>212354.000000</td>\n",
       "      <td>2.123540e+05</td>\n",
       "      <td>212354.000000</td>\n",
       "      <td>212354.000000</td>\n",
       "      <td>212354.000000</td>\n",
       "      <td>212354.000000</td>\n",
       "      <td>212354.000000</td>\n",
       "    </tr>\n",
       "    <tr>\n",
       "      <th>mean</th>\n",
       "      <td>53.258036</td>\n",
       "      <td>0.300564</td>\n",
       "      <td>0.399154</td>\n",
       "      <td>0.499378</td>\n",
       "      <td>0.249470</td>\n",
       "      <td>5496.117332</td>\n",
       "      <td>1.499874e+06</td>\n",
       "      <td>0.500527</td>\n",
       "      <td>4.994971e-01</td>\n",
       "      <td>0.500083</td>\n",
       "      <td>0.499895</td>\n",
       "      <td>0.500125</td>\n",
       "      <td>4.989745e-01</td>\n",
       "      <td>0.501152</td>\n",
       "      <td>0.501117</td>\n",
       "      <td>5.010346</td>\n",
       "      <td>5.000085</td>\n",
       "      <td>0.098698</td>\n",
       "    </tr>\n",
       "    <tr>\n",
       "      <th>std</th>\n",
       "      <td>18.984419</td>\n",
       "      <td>0.458504</td>\n",
       "      <td>0.489726</td>\n",
       "      <td>0.500001</td>\n",
       "      <td>0.432707</td>\n",
       "      <td>2596.817632</td>\n",
       "      <td>2.882585e+05</td>\n",
       "      <td>0.288757</td>\n",
       "      <td>2.888452e-01</td>\n",
       "      <td>0.288491</td>\n",
       "      <td>0.288571</td>\n",
       "      <td>0.288738</td>\n",
       "      <td>2.884995e-01</td>\n",
       "      <td>0.288874</td>\n",
       "      <td>0.288678</td>\n",
       "      <td>2.884461</td>\n",
       "      <td>2.882685</td>\n",
       "      <td>0.298257</td>\n",
       "    </tr>\n",
       "    <tr>\n",
       "      <th>min</th>\n",
       "      <td>20.000000</td>\n",
       "      <td>0.000000</td>\n",
       "      <td>0.000000</td>\n",
       "      <td>0.000000</td>\n",
       "      <td>0.000000</td>\n",
       "      <td>1000.000000</td>\n",
       "      <td>1.000007e+06</td>\n",
       "      <td>0.000005</td>\n",
       "      <td>6.090000e-07</td>\n",
       "      <td>0.000003</td>\n",
       "      <td>0.000001</td>\n",
       "      <td>0.000013</td>\n",
       "      <td>7.740000e-07</td>\n",
       "      <td>0.000008</td>\n",
       "      <td>0.000004</td>\n",
       "      <td>0.000016</td>\n",
       "      <td>0.000082</td>\n",
       "      <td>0.000000</td>\n",
       "    </tr>\n",
       "    <tr>\n",
       "      <th>25%</th>\n",
       "      <td>37.000000</td>\n",
       "      <td>0.000000</td>\n",
       "      <td>0.000000</td>\n",
       "      <td>0.000000</td>\n",
       "      <td>0.000000</td>\n",
       "      <td>3252.000000</td>\n",
       "      <td>1.251177e+06</td>\n",
       "      <td>0.250034</td>\n",
       "      <td>2.486468e-01</td>\n",
       "      <td>0.249877</td>\n",
       "      <td>0.250206</td>\n",
       "      <td>0.250293</td>\n",
       "      <td>2.497943e-01</td>\n",
       "      <td>0.250322</td>\n",
       "      <td>0.251790</td>\n",
       "      <td>2.512241</td>\n",
       "      <td>2.505941</td>\n",
       "      <td>0.000000</td>\n",
       "    </tr>\n",
       "    <tr>\n",
       "      <th>50%</th>\n",
       "      <td>50.000000</td>\n",
       "      <td>0.000000</td>\n",
       "      <td>0.000000</td>\n",
       "      <td>0.000000</td>\n",
       "      <td>0.000000</td>\n",
       "      <td>5491.000000</td>\n",
       "      <td>1.500324e+06</td>\n",
       "      <td>0.501302</td>\n",
       "      <td>4.998040e-01</td>\n",
       "      <td>0.500498</td>\n",
       "      <td>0.499635</td>\n",
       "      <td>0.499888</td>\n",
       "      <td>4.985230e-01</td>\n",
       "      <td>0.502228</td>\n",
       "      <td>0.501814</td>\n",
       "      <td>5.018196</td>\n",
       "      <td>5.003598</td>\n",
       "      <td>0.000000</td>\n",
       "    </tr>\n",
       "    <tr>\n",
       "      <th>75%</th>\n",
       "      <td>69.000000</td>\n",
       "      <td>1.000000</td>\n",
       "      <td>1.000000</td>\n",
       "      <td>1.000000</td>\n",
       "      <td>0.000000</td>\n",
       "      <td>7738.000000</td>\n",
       "      <td>1.748424e+06</td>\n",
       "      <td>0.750783</td>\n",
       "      <td>7.495843e-01</td>\n",
       "      <td>0.748769</td>\n",
       "      <td>0.749075</td>\n",
       "      <td>0.749994</td>\n",
       "      <td>7.487212e-01</td>\n",
       "      <td>0.751212</td>\n",
       "      <td>0.751860</td>\n",
       "      <td>7.508878</td>\n",
       "      <td>7.493106</td>\n",
       "      <td>0.000000</td>\n",
       "    </tr>\n",
       "    <tr>\n",
       "      <th>max</th>\n",
       "      <td>89.000000</td>\n",
       "      <td>1.000000</td>\n",
       "      <td>1.000000</td>\n",
       "      <td>1.000000</td>\n",
       "      <td>1.000000</td>\n",
       "      <td>9999.000000</td>\n",
       "      <td>1.999998e+06</td>\n",
       "      <td>0.999998</td>\n",
       "      <td>9.999993e-01</td>\n",
       "      <td>0.999997</td>\n",
       "      <td>0.999997</td>\n",
       "      <td>1.000000</td>\n",
       "      <td>9.999986e-01</td>\n",
       "      <td>0.999993</td>\n",
       "      <td>0.999997</td>\n",
       "      <td>9.999908</td>\n",
       "      <td>9.999987</td>\n",
       "      <td>1.000000</td>\n",
       "    </tr>\n",
       "  </tbody>\n",
       "</table>\n",
       "</div>"
      ],
      "text/plain": [
       "                 age  family_history  smoking_habits  alcohol_consumption  \\\n",
       "count  212354.000000   212354.000000   212354.000000        212354.000000   \n",
       "mean       53.258036        0.300564        0.399154             0.499378   \n",
       "std        18.984419        0.458504        0.489726             0.500001   \n",
       "min        20.000000        0.000000        0.000000             0.000000   \n",
       "25%        37.000000        0.000000        0.000000             0.000000   \n",
       "50%        50.000000        0.000000        0.000000             0.000000   \n",
       "75%        69.000000        1.000000        1.000000             1.000000   \n",
       "max        89.000000        1.000000        1.000000             1.000000   \n",
       "\n",
       "       helicobacter_pylori_infection  target_entrez  target_ensembl  \\\n",
       "count                  212354.000000  212354.000000    2.123540e+05   \n",
       "mean                        0.249470    5496.117332    1.499874e+06   \n",
       "std                         0.432707    2596.817632    2.882585e+05   \n",
       "min                         0.000000    1000.000000    1.000007e+06   \n",
       "25%                         0.000000    3252.000000    1.251177e+06   \n",
       "50%                         0.000000    5491.000000    1.500324e+06   \n",
       "75%                         0.000000    7738.000000    1.748424e+06   \n",
       "max                         1.000000    9999.000000    1.999998e+06   \n",
       "\n",
       "        diana_microt         elmmo      microcosm        miranda  \\\n",
       "count  212354.000000  2.123540e+05  212354.000000  212354.000000   \n",
       "mean        0.500527  4.994971e-01       0.500083       0.499895   \n",
       "std         0.288757  2.888452e-01       0.288491       0.288571   \n",
       "min         0.000005  6.090000e-07       0.000003       0.000001   \n",
       "25%         0.250034  2.486468e-01       0.249877       0.250206   \n",
       "50%         0.501302  4.998040e-01       0.500498       0.499635   \n",
       "75%         0.750783  7.495843e-01       0.748769       0.749075   \n",
       "max         0.999998  9.999993e-01       0.999997       0.999997   \n",
       "\n",
       "               mirdb        pictar           pita     targetscan  \\\n",
       "count  212354.000000  2.123540e+05  212354.000000  212354.000000   \n",
       "mean        0.500125  4.989745e-01       0.501152       0.501117   \n",
       "std         0.288738  2.884995e-01       0.288874       0.288678   \n",
       "min         0.000013  7.740000e-07       0.000008       0.000004   \n",
       "25%         0.250293  2.497943e-01       0.250322       0.251790   \n",
       "50%         0.499888  4.985230e-01       0.502228       0.501814   \n",
       "75%         0.749994  7.487212e-01       0.751212       0.751860   \n",
       "max         1.000000  9.999986e-01       0.999993       0.999997   \n",
       "\n",
       "       predicted.sum        all.sum          label  \n",
       "count  212354.000000  212354.000000  212354.000000  \n",
       "mean        5.010346       5.000085       0.098698  \n",
       "std         2.884461       2.882685       0.298257  \n",
       "min         0.000016       0.000082       0.000000  \n",
       "25%         2.512241       2.505941       0.000000  \n",
       "50%         5.018196       5.003598       0.000000  \n",
       "75%         7.508878       7.493106       0.000000  \n",
       "max         9.999908       9.999987       1.000000  "
      ]
     },
     "execution_count": 13,
     "metadata": {},
     "output_type": "execute_result"
    }
   ],
   "source": [
    "gc.describe()"
   ]
  },
  {
   "cell_type": "code",
   "execution_count": 14,
   "id": "79a33acf",
   "metadata": {},
   "outputs": [
    {
     "data": {
      "text/plain": [
       "Index(['age', 'gender', 'ethnicity', 'geographical_location', 'family_history',\n",
       "       'smoking_habits', 'alcohol_consumption',\n",
       "       'helicobacter_pylori_infection', 'dietary_habits',\n",
       "       'existing_conditions', 'endoscopic_images', 'biopsy_results', 'ct_scan',\n",
       "       'mature_mirna_acc', 'mature_mirna_id', 'target_symbol', 'target_entrez',\n",
       "       'target_ensembl', 'diana_microt', 'elmmo', 'microcosm', 'miranda',\n",
       "       'mirdb', 'pictar', 'pita', 'targetscan', 'predicted.sum', 'all.sum',\n",
       "       'label'],\n",
       "      dtype='object')"
      ]
     },
     "execution_count": 14,
     "metadata": {},
     "output_type": "execute_result"
    }
   ],
   "source": [
    "gc.columns"
   ]
  },
  {
   "cell_type": "markdown",
   "id": "07a86367",
   "metadata": {},
   "source": [
    "### 3- Data Preprocessing (Data Cleaning & Preparation)."
   ]
  },
  {
   "cell_type": "markdown",
   "id": "6a18ba10",
   "metadata": {},
   "source": [
    "#### 1- Check the missing values :\n"
   ]
  },
  {
   "cell_type": "code",
   "execution_count": 15,
   "id": "6305077b",
   "metadata": {},
   "outputs": [
    {
     "data": {
      "text/plain": [
       "age                              0\n",
       "gender                           0\n",
       "ethnicity                        0\n",
       "geographical_location            0\n",
       "family_history                   0\n",
       "smoking_habits                   0\n",
       "alcohol_consumption              0\n",
       "helicobacter_pylori_infection    0\n",
       "dietary_habits                   0\n",
       "existing_conditions              0\n",
       "endoscopic_images                0\n",
       "biopsy_results                   0\n",
       "ct_scan                          0\n",
       "mature_mirna_acc                 0\n",
       "mature_mirna_id                  0\n",
       "target_symbol                    0\n",
       "target_entrez                    0\n",
       "target_ensembl                   0\n",
       "diana_microt                     0\n",
       "elmmo                            0\n",
       "microcosm                        0\n",
       "miranda                          0\n",
       "mirdb                            0\n",
       "pictar                           0\n",
       "pita                             0\n",
       "targetscan                       0\n",
       "predicted.sum                    0\n",
       "all.sum                          0\n",
       "label                            0\n",
       "dtype: int64"
      ]
     },
     "execution_count": 15,
     "metadata": {},
     "output_type": "execute_result"
    }
   ],
   "source": [
    "gc.isnull().sum()"
   ]
  },
  {
   "cell_type": "markdown",
   "id": "07e90d7f",
   "metadata": {},
   "source": [
    "#### 2- Check the duplicate columns:\n"
   ]
  },
  {
   "cell_type": "code",
   "execution_count": 16,
   "id": "3a394b26",
   "metadata": {},
   "outputs": [
    {
     "data": {
      "text/plain": [
       "0"
      ]
     },
     "execution_count": 16,
     "metadata": {},
     "output_type": "execute_result"
    }
   ],
   "source": [
    "gc.duplicated().sum()"
   ]
  },
  {
   "cell_type": "markdown",
   "id": "4f5b6818",
   "metadata": {},
   "source": [
    "#### 3- Drop Columns :"
   ]
  },
  {
   "cell_type": "markdown",
   "id": "aad30575",
   "metadata": {},
   "source": [
    "- We don’t need both the id and accession number for our analysis or modeling so we will drop the mature_mirna_acc column because is more interpretable for human readers and is preferred in plots, reports, and publications."
   ]
  },
  {
   "cell_type": "code",
   "execution_count": 17,
   "id": "30c11726",
   "metadata": {},
   "outputs": [
    {
     "data": {
      "text/plain": [
       "MIR123_1    148248\n",
       "MIR234_2     42780\n",
       "MIR345_3     21326\n",
       "Name: mature_mirna_id, dtype: int64"
      ]
     },
     "execution_count": 17,
     "metadata": {},
     "output_type": "execute_result"
    }
   ],
   "source": [
    "gc[\"mature_mirna_id\"].value_counts()"
   ]
  },
  {
   "cell_type": "code",
   "execution_count": 18,
   "id": "f1dfa950",
   "metadata": {},
   "outputs": [
    {
     "data": {
      "text/plain": [
       "MIR123    148596\n",
       "MIR234     42474\n",
       "MIR345     21284\n",
       "Name: mature_mirna_acc, dtype: int64"
      ]
     },
     "execution_count": 18,
     "metadata": {},
     "output_type": "execute_result"
    }
   ],
   "source": [
    "gc[\"mature_mirna_acc\"].value_counts()"
   ]
  },
  {
   "cell_type": "code",
   "execution_count": 19,
   "id": "813bc25e",
   "metadata": {},
   "outputs": [
    {
     "data": {
      "text/html": [
       "<div>\n",
       "<style scoped>\n",
       "    .dataframe tbody tr th:only-of-type {\n",
       "        vertical-align: middle;\n",
       "    }\n",
       "\n",
       "    .dataframe tbody tr th {\n",
       "        vertical-align: top;\n",
       "    }\n",
       "\n",
       "    .dataframe thead th {\n",
       "        text-align: right;\n",
       "    }\n",
       "</style>\n",
       "<table border=\"1\" class=\"dataframe\">\n",
       "  <thead>\n",
       "    <tr style=\"text-align: right;\">\n",
       "      <th></th>\n",
       "      <th>age</th>\n",
       "      <th>gender</th>\n",
       "      <th>ethnicity</th>\n",
       "      <th>geographical_location</th>\n",
       "      <th>family_history</th>\n",
       "      <th>smoking_habits</th>\n",
       "      <th>alcohol_consumption</th>\n",
       "      <th>helicobacter_pylori_infection</th>\n",
       "      <th>dietary_habits</th>\n",
       "      <th>existing_conditions</th>\n",
       "      <th>...</th>\n",
       "      <th>elmmo</th>\n",
       "      <th>microcosm</th>\n",
       "      <th>miranda</th>\n",
       "      <th>mirdb</th>\n",
       "      <th>pictar</th>\n",
       "      <th>pita</th>\n",
       "      <th>targetscan</th>\n",
       "      <th>predicted.sum</th>\n",
       "      <th>all.sum</th>\n",
       "      <th>label</th>\n",
       "    </tr>\n",
       "  </thead>\n",
       "  <tbody>\n",
       "    <tr>\n",
       "      <th>0</th>\n",
       "      <td>43</td>\n",
       "      <td>Male</td>\n",
       "      <td>Ethnicity_A</td>\n",
       "      <td>Other</td>\n",
       "      <td>1</td>\n",
       "      <td>0</td>\n",
       "      <td>0</td>\n",
       "      <td>0</td>\n",
       "      <td>Low_Salt</td>\n",
       "      <td>Chronic Gastritis</td>\n",
       "      <td>...</td>\n",
       "      <td>0.187003</td>\n",
       "      <td>0.786422</td>\n",
       "      <td>0.204816</td>\n",
       "      <td>0.561920</td>\n",
       "      <td>0.438175</td>\n",
       "      <td>0.283603</td>\n",
       "      <td>0.928244</td>\n",
       "      <td>4.324299</td>\n",
       "      <td>7.666791</td>\n",
       "      <td>0</td>\n",
       "    </tr>\n",
       "    <tr>\n",
       "      <th>1</th>\n",
       "      <td>86</td>\n",
       "      <td>Female</td>\n",
       "      <td>Ethnicity_B</td>\n",
       "      <td>California</td>\n",
       "      <td>1</td>\n",
       "      <td>0</td>\n",
       "      <td>0</td>\n",
       "      <td>1</td>\n",
       "      <td>High_Salt</td>\n",
       "      <td>Diabetes</td>\n",
       "      <td>...</td>\n",
       "      <td>0.493322</td>\n",
       "      <td>0.963989</td>\n",
       "      <td>0.498041</td>\n",
       "      <td>0.985585</td>\n",
       "      <td>0.144609</td>\n",
       "      <td>0.375375</td>\n",
       "      <td>0.103573</td>\n",
       "      <td>7.967674</td>\n",
       "      <td>1.483280</td>\n",
       "      <td>0</td>\n",
       "    </tr>\n",
       "    <tr>\n",
       "      <th>2</th>\n",
       "      <td>68</td>\n",
       "      <td>Male</td>\n",
       "      <td>Ethnicity_A</td>\n",
       "      <td>California</td>\n",
       "      <td>0</td>\n",
       "      <td>1</td>\n",
       "      <td>1</td>\n",
       "      <td>0</td>\n",
       "      <td>High_Salt</td>\n",
       "      <td>None</td>\n",
       "      <td>...</td>\n",
       "      <td>0.573560</td>\n",
       "      <td>0.666896</td>\n",
       "      <td>0.540388</td>\n",
       "      <td>0.905853</td>\n",
       "      <td>0.827279</td>\n",
       "      <td>0.350915</td>\n",
       "      <td>0.166878</td>\n",
       "      <td>3.748651</td>\n",
       "      <td>3.046783</td>\n",
       "      <td>0</td>\n",
       "    </tr>\n",
       "    <tr>\n",
       "      <th>3</th>\n",
       "      <td>57</td>\n",
       "      <td>Female</td>\n",
       "      <td>Ethnicity_A</td>\n",
       "      <td>Other</td>\n",
       "      <td>0</td>\n",
       "      <td>0</td>\n",
       "      <td>0</td>\n",
       "      <td>1</td>\n",
       "      <td>High_Salt</td>\n",
       "      <td>Chronic Gastritis</td>\n",
       "      <td>...</td>\n",
       "      <td>0.261399</td>\n",
       "      <td>0.949488</td>\n",
       "      <td>0.134170</td>\n",
       "      <td>0.429935</td>\n",
       "      <td>0.935231</td>\n",
       "      <td>0.794704</td>\n",
       "      <td>0.867036</td>\n",
       "      <td>5.478298</td>\n",
       "      <td>8.811307</td>\n",
       "      <td>0</td>\n",
       "    </tr>\n",
       "    <tr>\n",
       "      <th>4</th>\n",
       "      <td>33</td>\n",
       "      <td>Male</td>\n",
       "      <td>Ethnicity_A</td>\n",
       "      <td>California</td>\n",
       "      <td>0</td>\n",
       "      <td>1</td>\n",
       "      <td>1</td>\n",
       "      <td>0</td>\n",
       "      <td>High_Salt</td>\n",
       "      <td>Diabetes</td>\n",
       "      <td>...</td>\n",
       "      <td>0.754478</td>\n",
       "      <td>0.263164</td>\n",
       "      <td>0.876767</td>\n",
       "      <td>0.650832</td>\n",
       "      <td>0.337669</td>\n",
       "      <td>0.427492</td>\n",
       "      <td>0.915804</td>\n",
       "      <td>1.809181</td>\n",
       "      <td>0.394632</td>\n",
       "      <td>0</td>\n",
       "    </tr>\n",
       "    <tr>\n",
       "      <th>...</th>\n",
       "      <td>...</td>\n",
       "      <td>...</td>\n",
       "      <td>...</td>\n",
       "      <td>...</td>\n",
       "      <td>...</td>\n",
       "      <td>...</td>\n",
       "      <td>...</td>\n",
       "      <td>...</td>\n",
       "      <td>...</td>\n",
       "      <td>...</td>\n",
       "      <td>...</td>\n",
       "      <td>...</td>\n",
       "      <td>...</td>\n",
       "      <td>...</td>\n",
       "      <td>...</td>\n",
       "      <td>...</td>\n",
       "      <td>...</td>\n",
       "      <td>...</td>\n",
       "      <td>...</td>\n",
       "      <td>...</td>\n",
       "      <td>...</td>\n",
       "    </tr>\n",
       "    <tr>\n",
       "      <th>212349</th>\n",
       "      <td>47</td>\n",
       "      <td>Male</td>\n",
       "      <td>Ethnicity_A</td>\n",
       "      <td>California</td>\n",
       "      <td>0</td>\n",
       "      <td>1</td>\n",
       "      <td>1</td>\n",
       "      <td>0</td>\n",
       "      <td>High_Salt</td>\n",
       "      <td>Chronic Gastritis</td>\n",
       "      <td>...</td>\n",
       "      <td>0.408123</td>\n",
       "      <td>0.925035</td>\n",
       "      <td>0.267628</td>\n",
       "      <td>0.538474</td>\n",
       "      <td>0.463471</td>\n",
       "      <td>0.827892</td>\n",
       "      <td>0.929147</td>\n",
       "      <td>0.866260</td>\n",
       "      <td>6.698303</td>\n",
       "      <td>0</td>\n",
       "    </tr>\n",
       "    <tr>\n",
       "      <th>212350</th>\n",
       "      <td>59</td>\n",
       "      <td>Female</td>\n",
       "      <td>Ethnicity_A</td>\n",
       "      <td>California</td>\n",
       "      <td>0</td>\n",
       "      <td>1</td>\n",
       "      <td>1</td>\n",
       "      <td>0</td>\n",
       "      <td>High_Salt</td>\n",
       "      <td>Chronic Gastritis</td>\n",
       "      <td>...</td>\n",
       "      <td>0.578204</td>\n",
       "      <td>0.768279</td>\n",
       "      <td>0.339168</td>\n",
       "      <td>0.236523</td>\n",
       "      <td>0.444216</td>\n",
       "      <td>0.011762</td>\n",
       "      <td>0.053098</td>\n",
       "      <td>5.102216</td>\n",
       "      <td>2.338017</td>\n",
       "      <td>0</td>\n",
       "    </tr>\n",
       "    <tr>\n",
       "      <th>212351</th>\n",
       "      <td>58</td>\n",
       "      <td>Female</td>\n",
       "      <td>Ethnicity_C</td>\n",
       "      <td>California</td>\n",
       "      <td>0</td>\n",
       "      <td>0</td>\n",
       "      <td>0</td>\n",
       "      <td>0</td>\n",
       "      <td>High_Salt</td>\n",
       "      <td>None</td>\n",
       "      <td>...</td>\n",
       "      <td>0.940936</td>\n",
       "      <td>0.865221</td>\n",
       "      <td>0.448189</td>\n",
       "      <td>0.899351</td>\n",
       "      <td>0.766615</td>\n",
       "      <td>0.098454</td>\n",
       "      <td>0.384019</td>\n",
       "      <td>7.774612</td>\n",
       "      <td>4.601637</td>\n",
       "      <td>1</td>\n",
       "    </tr>\n",
       "    <tr>\n",
       "      <th>212352</th>\n",
       "      <td>77</td>\n",
       "      <td>Female</td>\n",
       "      <td>Ethnicity_B</td>\n",
       "      <td>California</td>\n",
       "      <td>1</td>\n",
       "      <td>1</td>\n",
       "      <td>0</td>\n",
       "      <td>1</td>\n",
       "      <td>High_Salt</td>\n",
       "      <td>Chronic Gastritis</td>\n",
       "      <td>...</td>\n",
       "      <td>0.498088</td>\n",
       "      <td>0.048195</td>\n",
       "      <td>0.924610</td>\n",
       "      <td>0.101521</td>\n",
       "      <td>0.464988</td>\n",
       "      <td>0.639401</td>\n",
       "      <td>0.410327</td>\n",
       "      <td>2.362698</td>\n",
       "      <td>2.020047</td>\n",
       "      <td>0</td>\n",
       "    </tr>\n",
       "    <tr>\n",
       "      <th>212353</th>\n",
       "      <td>71</td>\n",
       "      <td>Male</td>\n",
       "      <td>Ethnicity_A</td>\n",
       "      <td>California</td>\n",
       "      <td>0</td>\n",
       "      <td>0</td>\n",
       "      <td>0</td>\n",
       "      <td>1</td>\n",
       "      <td>High_Salt</td>\n",
       "      <td>None</td>\n",
       "      <td>...</td>\n",
       "      <td>0.689696</td>\n",
       "      <td>0.701524</td>\n",
       "      <td>0.250955</td>\n",
       "      <td>0.102458</td>\n",
       "      <td>0.077025</td>\n",
       "      <td>0.463766</td>\n",
       "      <td>0.765164</td>\n",
       "      <td>2.392974</td>\n",
       "      <td>4.487878</td>\n",
       "      <td>0</td>\n",
       "    </tr>\n",
       "  </tbody>\n",
       "</table>\n",
       "<p>212354 rows × 29 columns</p>\n",
       "</div>"
      ],
      "text/plain": [
       "        age  gender    ethnicity geographical_location  family_history  \\\n",
       "0        43    Male  Ethnicity_A                 Other               1   \n",
       "1        86  Female  Ethnicity_B            California               1   \n",
       "2        68    Male  Ethnicity_A            California               0   \n",
       "3        57  Female  Ethnicity_A                 Other               0   \n",
       "4        33    Male  Ethnicity_A            California               0   \n",
       "...     ...     ...          ...                   ...             ...   \n",
       "212349   47    Male  Ethnicity_A            California               0   \n",
       "212350   59  Female  Ethnicity_A            California               0   \n",
       "212351   58  Female  Ethnicity_C            California               0   \n",
       "212352   77  Female  Ethnicity_B            California               1   \n",
       "212353   71    Male  Ethnicity_A            California               0   \n",
       "\n",
       "        smoking_habits  alcohol_consumption  helicobacter_pylori_infection  \\\n",
       "0                    0                    0                              0   \n",
       "1                    0                    0                              1   \n",
       "2                    1                    1                              0   \n",
       "3                    0                    0                              1   \n",
       "4                    1                    1                              0   \n",
       "...                ...                  ...                            ...   \n",
       "212349               1                    1                              0   \n",
       "212350               1                    1                              0   \n",
       "212351               0                    0                              0   \n",
       "212352               1                    0                              1   \n",
       "212353               0                    0                              1   \n",
       "\n",
       "       dietary_habits existing_conditions  ...     elmmo microcosm   miranda  \\\n",
       "0            Low_Salt   Chronic Gastritis  ...  0.187003  0.786422  0.204816   \n",
       "1           High_Salt            Diabetes  ...  0.493322  0.963989  0.498041   \n",
       "2           High_Salt                None  ...  0.573560  0.666896  0.540388   \n",
       "3           High_Salt   Chronic Gastritis  ...  0.261399  0.949488  0.134170   \n",
       "4           High_Salt            Diabetes  ...  0.754478  0.263164  0.876767   \n",
       "...               ...                 ...  ...       ...       ...       ...   \n",
       "212349      High_Salt   Chronic Gastritis  ...  0.408123  0.925035  0.267628   \n",
       "212350      High_Salt   Chronic Gastritis  ...  0.578204  0.768279  0.339168   \n",
       "212351      High_Salt                None  ...  0.940936  0.865221  0.448189   \n",
       "212352      High_Salt   Chronic Gastritis  ...  0.498088  0.048195  0.924610   \n",
       "212353      High_Salt                None  ...  0.689696  0.701524  0.250955   \n",
       "\n",
       "           mirdb    pictar      pita  targetscan  predicted.sum   all.sum  \\\n",
       "0       0.561920  0.438175  0.283603    0.928244       4.324299  7.666791   \n",
       "1       0.985585  0.144609  0.375375    0.103573       7.967674  1.483280   \n",
       "2       0.905853  0.827279  0.350915    0.166878       3.748651  3.046783   \n",
       "3       0.429935  0.935231  0.794704    0.867036       5.478298  8.811307   \n",
       "4       0.650832  0.337669  0.427492    0.915804       1.809181  0.394632   \n",
       "...          ...       ...       ...         ...            ...       ...   \n",
       "212349  0.538474  0.463471  0.827892    0.929147       0.866260  6.698303   \n",
       "212350  0.236523  0.444216  0.011762    0.053098       5.102216  2.338017   \n",
       "212351  0.899351  0.766615  0.098454    0.384019       7.774612  4.601637   \n",
       "212352  0.101521  0.464988  0.639401    0.410327       2.362698  2.020047   \n",
       "212353  0.102458  0.077025  0.463766    0.765164       2.392974  4.487878   \n",
       "\n",
       "        label  \n",
       "0           0  \n",
       "1           0  \n",
       "2           0  \n",
       "3           0  \n",
       "4           0  \n",
       "...       ...  \n",
       "212349      0  \n",
       "212350      0  \n",
       "212351      1  \n",
       "212352      0  \n",
       "212353      0  \n",
       "\n",
       "[212354 rows x 29 columns]"
      ]
     },
     "execution_count": 19,
     "metadata": {},
     "output_type": "execute_result"
    }
   ],
   "source": [
    "gc.copy()"
   ]
  },
  {
   "cell_type": "code",
   "execution_count": 20,
   "id": "04819416",
   "metadata": {},
   "outputs": [],
   "source": [
    "# Drop the mature_mirna_acc column.\n",
    "gc.drop(columns = ['mature_mirna_acc'] , inplace = True )"
   ]
  },
  {
   "cell_type": "code",
   "execution_count": 21,
   "id": "0549b84d",
   "metadata": {},
   "outputs": [
    {
     "data": {
      "text/plain": [
       "(212354, 28)"
      ]
     },
     "execution_count": 21,
     "metadata": {},
     "output_type": "execute_result"
    }
   ],
   "source": [
    "# Check the dimention. \n",
    "gc.shape"
   ]
  },
  {
   "cell_type": "markdown",
   "id": "623c62e3",
   "metadata": {},
   "source": [
    "#### 4. Encode Categorical Data "
   ]
  },
  {
   "cell_type": "markdown",
   "id": "46ae9d2d",
   "metadata": {},
   "source": [
    "- Gender Column : Patient's gender (Male/Female) . It Can influence patterns of cancer incidence ."
   ]
  },
  {
   "cell_type": "code",
   "execution_count": 22,
   "id": "9a69b723",
   "metadata": {},
   "outputs": [
    {
     "data": {
      "text/plain": [
       "Male      148706\n",
       "Female     63648\n",
       "Name: gender, dtype: int64"
      ]
     },
     "execution_count": 22,
     "metadata": {},
     "output_type": "execute_result"
    }
   ],
   "source": [
    "# counting the values in gender column befor encoding .\n",
    "gc[\"gender\"].value_counts()"
   ]
  },
  {
   "cell_type": "code",
   "execution_count": 23,
   "id": "8d69056a",
   "metadata": {},
   "outputs": [
    {
     "data": {
      "text/plain": [
       "0    148706\n",
       "1     63648\n",
       "Name: gender, dtype: int64"
      ]
     },
     "execution_count": 23,
     "metadata": {},
     "output_type": "execute_result"
    }
   ],
   "source": [
    "# gender Encoding ( male : 0 , Female : 1 ).\n",
    "gc[\"gender\"] = gc[\"gender\"].map({'Female' : 1 , 'Male' : 0 })\n",
    "\n",
    "# Check the column after the encoding.\n",
    "gc[\"gender\"].value_counts()"
   ]
  },
  {
   "cell_type": "markdown",
   "id": "7831f19c",
   "metadata": {},
   "source": [
    "- Ethnicity Column : Ethnic background and it helps in analyzing genetic and environmental influence"
   ]
  },
  {
   "cell_type": "code",
   "execution_count": 24,
   "id": "ebb759fc",
   "metadata": {},
   "outputs": [
    {
     "data": {
      "text/plain": [
       "Ethnicity_A    127571\n",
       "Ethnicity_B     63569\n",
       "Ethnicity_C     21214\n",
       "Name: ethnicity, dtype: int64"
      ]
     },
     "execution_count": 24,
     "metadata": {},
     "output_type": "execute_result"
    }
   ],
   "source": [
    "# counting the values in ethnicity column befor encoding .\n",
    "gc[\"ethnicity\"].value_counts()"
   ]
  },
  {
   "cell_type": "code",
   "execution_count": 25,
   "id": "749e4a80",
   "metadata": {},
   "outputs": [
    {
     "data": {
      "text/plain": [
       "0    127571\n",
       "1     63569\n",
       "2     21214\n",
       "Name: ethnicity, dtype: int64"
      ]
     },
     "execution_count": 25,
     "metadata": {},
     "output_type": "execute_result"
    }
   ],
   "source": [
    "# Ethnicity Encoding (Ethnicity_A : 0 ,Ethnicity_B : 1 ,Ethnicity_C : 2 )\n",
    "gc[\"ethnicity\"] = gc[\"ethnicity\"].replace({\"Ethnicity_A\" : 0 , \"Ethnicity_B\" : 1 , \"Ethnicity_C\" : 2})\n",
    "\n",
    "# Check the column after the encoding.\n",
    "gc[\"ethnicity\"].value_counts()"
   ]
  },
  {
   "cell_type": "markdown",
   "id": "369a97d4",
   "metadata": {},
   "source": [
    "- Geographical_Location Column : Patient's location . It is important for understanding environmental exposure, diet, and infections."
   ]
  },
  {
   "cell_type": "code",
   "execution_count": 26,
   "id": "909589ea",
   "metadata": {},
   "outputs": [
    {
     "data": {
      "text/plain": [
       "California    169603\n",
       "Other          42751\n",
       "Name: geographical_location, dtype: int64"
      ]
     },
     "execution_count": 26,
     "metadata": {},
     "output_type": "execute_result"
    }
   ],
   "source": [
    "# counting the values in geographical_location column befor encoding .\n",
    "gc[\"geographical_location\"].value_counts()"
   ]
  },
  {
   "cell_type": "code",
   "execution_count": 27,
   "id": "9c475386",
   "metadata": {},
   "outputs": [
    {
     "data": {
      "text/plain": [
       "1    169603\n",
       "0     42751\n",
       "Name: geographical_location, dtype: int64"
      ]
     },
     "execution_count": 27,
     "metadata": {},
     "output_type": "execute_result"
    }
   ],
   "source": [
    "# Geographical_Location Encoding (California : 1 , Other : 0)\n",
    "gc[\"geographical_location\"] = gc[\"geographical_location\"].replace({\"California\" : 1 , \"Other\" : 0})\n",
    "\n",
    "# Check the column after the encoding.\n",
    "gc[\"geographical_location\"].value_counts()"
   ]
  },
  {
   "cell_type": "markdown",
   "id": "1d6c6c19",
   "metadata": {},
   "source": [
    "- Dietary_Habits Column : Eating patterns ( high or low salt) aand Dietary habits affect gut health and microbiome balan."
   ]
  },
  {
   "cell_type": "code",
   "execution_count": 28,
   "id": "46a33cff",
   "metadata": {},
   "outputs": [
    {
     "data": {
      "text/plain": [
       "High_Salt    169805\n",
       "Low_Salt      42549\n",
       "Name: dietary_habits, dtype: int64"
      ]
     },
     "execution_count": 28,
     "metadata": {},
     "output_type": "execute_result"
    }
   ],
   "source": [
    "# counting the values in dietary_habits column befor encoding .\n",
    "gc[\"dietary_habits\"].value_counts()"
   ]
  },
  {
   "cell_type": "code",
   "execution_count": 29,
   "id": "d8a3b548",
   "metadata": {},
   "outputs": [
    {
     "data": {
      "text/plain": [
       "1    169805\n",
       "0     42549\n",
       "Name: dietary_habits, dtype: int64"
      ]
     },
     "execution_count": 29,
     "metadata": {},
     "output_type": "execute_result"
    }
   ],
   "source": [
    "# dietary_habits Encoding (low salt : 0 , high salt : 1).\n",
    "gc[\"dietary_habits\"] = gc[\"dietary_habits\"].replace({'High_Salt' : 1 , 'Low_Salt' : 0})\n",
    "\n",
    "# Check the column after the encoding. \n",
    "gc[\"dietary_habits\"].value_counts()"
   ]
  },
  {
   "cell_type": "markdown",
   "id": "b52a32f6",
   "metadata": {},
   "source": [
    "- Existing_Conditions Column : Pre-existing conditions (e.g., gastritis, diabetes). It Helps understand overall health and risk factors."
   ]
  },
  {
   "cell_type": "code",
   "execution_count": 30,
   "id": "d811ac36",
   "metadata": {},
   "outputs": [
    {
     "data": {
      "text/plain": [
       "Chronic Gastritis    106309\n",
       "Diabetes              63559\n",
       "None                  42486\n",
       "Name: existing_conditions, dtype: int64"
      ]
     },
     "execution_count": 30,
     "metadata": {},
     "output_type": "execute_result"
    }
   ],
   "source": [
    "# counting the values in existing_conditions column befor encoding .\n",
    "gc[\"existing_conditions\"].value_counts()"
   ]
  },
  {
   "cell_type": "code",
   "execution_count": 31,
   "id": "17c81ee3",
   "metadata": {},
   "outputs": [
    {
     "data": {
      "text/plain": [
       "Chronic Gastritis    106309\n",
       "Diabetes              63559\n",
       "No_exist              42486\n",
       "Name: existing_conditions, dtype: int64"
      ]
     },
     "execution_count": 31,
     "metadata": {},
     "output_type": "execute_result"
    }
   ],
   "source": [
    "#  Replacing the value \"None\" in the 'existing_conditions' column with \"No_exist\" \n",
    "# to make it more descriptive and avoid confusion with actual missing values (NaN).\n",
    "gc[\"existing_conditions\"] = gc[\"existing_conditions\"].replace({\"None\" : \"No_exist\"})\n",
    "\n",
    "# Check the column after replace the value \"None\".\n",
    "gc[\"existing_conditions\"].value_counts()"
   ]
  },
  {
   "cell_type": "code",
   "execution_count": 32,
   "id": "c20a393d",
   "metadata": {},
   "outputs": [
    {
     "data": {
      "text/plain": [
       "2    106309\n",
       "1     63559\n",
       "0     42486\n",
       "Name: existing_conditions, dtype: int64"
      ]
     },
     "execution_count": 32,
     "metadata": {},
     "output_type": "execute_result"
    }
   ],
   "source": [
    "# existing_conditions encoding (No_exist : 0 , Diabetes : 1 , Chronic Gastritis : 2 )\n",
    "gc[\"existing_conditions\"] = gc[\"existing_conditions\"].map({\"No_exist\" : 0 , \"Diabetes\" : 1 , \"Chronic Gastritis\" : 2})\n",
    "\n",
    "# Check the column after the encoding. \n",
    "gc[\"existing_conditions\"].value_counts()"
   ]
  },
  {
   "cell_type": "markdown",
   "id": "5ee3f69e",
   "metadata": {},
   "source": [
    "- Endoscopic_Images Column : Endoscopy results (Normal/Abnormal) . Key diagnostic tool for detecting cancer."
   ]
  },
  {
   "cell_type": "code",
   "execution_count": 33,
   "id": "17e3f1bb",
   "metadata": {},
   "outputs": [
    {
     "data": {
      "text/plain": [
       "Normal      148523\n",
       "Abnormal     63831\n",
       "Name: endoscopic_images, dtype: int64"
      ]
     },
     "execution_count": 33,
     "metadata": {},
     "output_type": "execute_result"
    }
   ],
   "source": [
    "# counting the values in endoscopic_images column befor encoding .\n",
    "gc[\"endoscopic_images\"].value_counts() "
   ]
  },
  {
   "cell_type": "code",
   "execution_count": 34,
   "id": "fc3661e7",
   "metadata": {},
   "outputs": [
    {
     "data": {
      "text/plain": [
       "1    148523\n",
       "0     63831\n",
       "Name: endoscopic_images, dtype: int64"
      ]
     },
     "execution_count": 34,
     "metadata": {},
     "output_type": "execute_result"
    }
   ],
   "source": [
    "# Endoscopic Images Encoding (Abnormal: 0 , Normal : 1 )\n",
    "gc[\"endoscopic_images\"] = gc[\"endoscopic_images\"].map({\"Abnormal\" : 0 , \"Normal\" : 1 })\n",
    "\n",
    "# Check the column after the encoding. \n",
    "gc[\"endoscopic_images\"].value_counts()"
   ]
  },
  {
   "cell_type": "markdown",
   "id": "0fec4d20",
   "metadata": {},
   "source": [
    "- Biopsy_Results Column : Biopsy findings (Positive/Negative) . It Determines presence of cancer cells."
   ]
  },
  {
   "cell_type": "code",
   "execution_count": 35,
   "id": "fe18fcd2",
   "metadata": {},
   "outputs": [
    {
     "data": {
      "text/plain": [
       "Negative    191223\n",
       "Positive     21131\n",
       "Name: biopsy_results, dtype: int64"
      ]
     },
     "execution_count": 35,
     "metadata": {},
     "output_type": "execute_result"
    }
   ],
   "source": [
    "# counting the values in endoscopic_images column befor encoding .\n",
    "gc[\"biopsy_results\"].value_counts()"
   ]
  },
  {
   "cell_type": "code",
   "execution_count": 36,
   "id": "fca28dfb",
   "metadata": {},
   "outputs": [
    {
     "data": {
      "text/plain": [
       "0    191223\n",
       "1     21131\n",
       "Name: biopsy_results, dtype: int64"
      ]
     },
     "execution_count": 36,
     "metadata": {},
     "output_type": "execute_result"
    }
   ],
   "source": [
    "# Biopsy Results Encoding (Negative : 0 , Positive : 1)\n",
    "gc[\"biopsy_results\"] = gc[\"biopsy_results\"].map({\"Negative\" : 0 , \"Positive\" : 1})\n",
    "\n",
    "# Check the column after the encoding.  \n",
    "gc[\"biopsy_results\"].value_counts()"
   ]
  },
  {
   "cell_type": "markdown",
   "id": "cb939939",
   "metadata": {},
   "source": [
    "- Ct_Scan Column : CT scan results\tShows spread and staging of cancer."
   ]
  },
  {
   "cell_type": "code",
   "execution_count": 37,
   "id": "5e2150b1",
   "metadata": {},
   "outputs": [
    {
     "data": {
      "text/plain": [
       "Negative    169740\n",
       "Positive     42614\n",
       "Name: ct_scan, dtype: int64"
      ]
     },
     "execution_count": 37,
     "metadata": {},
     "output_type": "execute_result"
    }
   ],
   "source": [
    "# counting the values in ct_scan column befor encoding .\n",
    "gc[\"ct_scan\"].value_counts()"
   ]
  },
  {
   "cell_type": "code",
   "execution_count": 38,
   "id": "c954bfd0",
   "metadata": {},
   "outputs": [
    {
     "data": {
      "text/plain": [
       "0    169740\n",
       "1     42614\n",
       "Name: ct_scan, dtype: int64"
      ]
     },
     "execution_count": 38,
     "metadata": {},
     "output_type": "execute_result"
    }
   ],
   "source": [
    "# Ct Scan Encoding (Negative : 0 , Positive : 1)\n",
    "gc[\"ct_scan\"] = gc[\"ct_scan\"].map({\"Negative\" : 0 , \"Positive\" : 1})\n",
    "\n",
    "# Check the column after the encoding.  \n",
    "gc[\"ct_scan\"].value_counts()"
   ]
  },
  {
   "cell_type": "markdown",
   "id": "252a7725",
   "metadata": {},
   "source": [
    "- Target_Symbol Column : Target gene name\tThe gene regulated by the miRNA . "
   ]
  },
  {
   "cell_type": "code",
   "execution_count": 39,
   "id": "d255ac0d",
   "metadata": {},
   "outputs": [
    {
     "data": {
      "text/plain": [
       "TP53    106351\n",
       "CDH1     63570\n",
       "KRAS     42433\n",
       "Name: target_symbol, dtype: int64"
      ]
     },
     "execution_count": 39,
     "metadata": {},
     "output_type": "execute_result"
    }
   ],
   "source": [
    "# counting the gene names that regulated by the miRNA\n",
    "gc[\"target_symbol\"].value_counts()"
   ]
  },
  {
   "cell_type": "markdown",
   "id": "8b8f076c",
   "metadata": {},
   "source": [
    "- Family_Histor Column : Family history of cancer (1 = Yes/ 0 = No)\tStrong indicator of genetic predisposition."
   ]
  },
  {
   "cell_type": "code",
   "execution_count": 40,
   "id": "9cd140f6",
   "metadata": {},
   "outputs": [
    {
     "data": {
      "text/plain": [
       "0    148528\n",
       "1     63826\n",
       "Name: family_history, dtype: int64"
      ]
     },
     "execution_count": 40,
     "metadata": {},
     "output_type": "execute_result"
    }
   ],
   "source": [
    "gc[\"family_history\"].value_counts()"
   ]
  },
  {
   "cell_type": "markdown",
   "id": "96ac5c75",
   "metadata": {},
   "source": [
    "- Label Column : Indicates if the patient has gastric cancer (1 = Yes, 0 = No)\tThis is the target variable for prediction models."
   ]
  },
  {
   "cell_type": "code",
   "execution_count": 41,
   "id": "53e1bb15",
   "metadata": {},
   "outputs": [
    {
     "data": {
      "text/plain": [
       "0    191395\n",
       "1     20959\n",
       "Name: label, dtype: int64"
      ]
     },
     "execution_count": 41,
     "metadata": {},
     "output_type": "execute_result"
    }
   ],
   "source": [
    "gc[\"label\"].value_counts()"
   ]
  },
  {
   "cell_type": "code",
   "execution_count": null,
   "id": "d7b3af8a",
   "metadata": {},
   "outputs": [],
   "source": [
    "# Save file after preproccesing \n",
    "gc.to_csv(\"cleand_gastric_cancer.csv\", index=False)"
   ]
  },
  {
   "cell_type": "code",
   "execution_count": null,
   "id": "353b7a85",
   "metadata": {},
   "outputs": [],
   "source": []
  }
 ],
 "metadata": {
  "kernelspec": {
   "display_name": "Python 3 (ipykernel)",
   "language": "python",
   "name": "python3"
  },
  "language_info": {
   "codemirror_mode": {
    "name": "ipython",
    "version": 3
   },
   "file_extension": ".py",
   "mimetype": "text/x-python",
   "name": "python",
   "nbconvert_exporter": "python",
   "pygments_lexer": "ipython3",
   "version": "3.9.12"
  }
 },
 "nbformat": 4,
 "nbformat_minor": 5
}
